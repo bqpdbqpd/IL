{
 "cells": [
  {
   "cell_type": "code",
   "execution_count": 1,
   "metadata": {},
   "outputs": [],
   "source": [
    "import pandas as pd"
   ]
  },
  {
   "cell_type": "code",
   "execution_count": 2,
   "metadata": {},
   "outputs": [],
   "source": [
    "df_ratio_cpu = pd.read_csv('NAB/data/realAWSCloudwatch/ec2_cpu_utilization_24ae8d.csv')"
   ]
  },
  {
   "cell_type": "code",
   "execution_count": 3,
   "metadata": {
    "scrolled": true
   },
   "outputs": [
    {
     "data": {
      "text/html": [
       "<div>\n",
       "<style scoped>\n",
       "    .dataframe tbody tr th:only-of-type {\n",
       "        vertical-align: middle;\n",
       "    }\n",
       "\n",
       "    .dataframe tbody tr th {\n",
       "        vertical-align: top;\n",
       "    }\n",
       "\n",
       "    .dataframe thead th {\n",
       "        text-align: right;\n",
       "    }\n",
       "</style>\n",
       "<table border=\"1\" class=\"dataframe\">\n",
       "  <thead>\n",
       "    <tr style=\"text-align: right;\">\n",
       "      <th></th>\n",
       "      <th>timestamp</th>\n",
       "      <th>value</th>\n",
       "    </tr>\n",
       "  </thead>\n",
       "  <tbody>\n",
       "    <tr>\n",
       "      <th>0</th>\n",
       "      <td>2014-02-14 14:30:00</td>\n",
       "      <td>0.132</td>\n",
       "    </tr>\n",
       "    <tr>\n",
       "      <th>1</th>\n",
       "      <td>2014-02-14 14:35:00</td>\n",
       "      <td>0.134</td>\n",
       "    </tr>\n",
       "    <tr>\n",
       "      <th>2</th>\n",
       "      <td>2014-02-14 14:40:00</td>\n",
       "      <td>0.134</td>\n",
       "    </tr>\n",
       "    <tr>\n",
       "      <th>3</th>\n",
       "      <td>2014-02-14 14:45:00</td>\n",
       "      <td>0.134</td>\n",
       "    </tr>\n",
       "    <tr>\n",
       "      <th>4</th>\n",
       "      <td>2014-02-14 14:50:00</td>\n",
       "      <td>0.134</td>\n",
       "    </tr>\n",
       "  </tbody>\n",
       "</table>\n",
       "</div>"
      ],
      "text/plain": [
       "             timestamp  value\n",
       "0  2014-02-14 14:30:00  0.132\n",
       "1  2014-02-14 14:35:00  0.134\n",
       "2  2014-02-14 14:40:00  0.134\n",
       "3  2014-02-14 14:45:00  0.134\n",
       "4  2014-02-14 14:50:00  0.134"
      ]
     },
     "execution_count": 3,
     "metadata": {},
     "output_type": "execute_result"
    }
   ],
   "source": [
    "df_ratio_cpu.head()"
   ]
  },
  {
   "cell_type": "code",
   "execution_count": 4,
   "metadata": {},
   "outputs": [
    {
     "data": {
      "text/plain": [
       "<matplotlib.axes._subplots.AxesSubplot at 0x2074ce5e7c0>"
      ]
     },
     "execution_count": 4,
     "metadata": {},
     "output_type": "execute_result"
    },
    {
     "data": {
      "image/png": "[encoded data removed]",
      "text/plain": [
       "<Figure size 432x288 with 1 Axes>"
      ]
     },
     "metadata": {
      "needs_background": "light"
     },
     "output_type": "display_data"
    }
   ],
   "source": [
    "df_ratio_cpu['value'].plot()"
   ]
  },
  {
   "cell_type": "code",
   "execution_count": 5,
   "metadata": {},
   "outputs": [],
   "source": [
    "df_ratio_cpu_2 = pd.read_csv('NAB/data/realAWSCloudwatch/ec2_cpu_utilization_53ea38.csv')"
   ]
  },
  {
   "cell_type": "code",
   "execution_count": 6,
   "metadata": {},
   "outputs": [
    {
     "data": {
      "text/html": [
       "<div>\n",
       "<style scoped>\n",
       "    .dataframe tbody tr th:only-of-type {\n",
       "        vertical-align: middle;\n",
       "    }\n",
       "\n",
       "    .dataframe tbody tr th {\n",
       "        vertical-align: top;\n",
       "    }\n",
       "\n",
       "    .dataframe thead th {\n",
       "        text-align: right;\n",
       "    }\n",
       "</style>\n",
       "<table border=\"1\" class=\"dataframe\">\n",
       "  <thead>\n",
       "    <tr style=\"text-align: right;\">\n",
       "      <th></th>\n",
       "      <th>timestamp</th>\n",
       "      <th>value</th>\n",
       "    </tr>\n",
       "  </thead>\n",
       "  <tbody>\n",
       "    <tr>\n",
       "      <th>0</th>\n",
       "      <td>2014-02-14 14:30:00</td>\n",
       "      <td>1.732</td>\n",
       "    </tr>\n",
       "    <tr>\n",
       "      <th>1</th>\n",
       "      <td>2014-02-14 14:35:00</td>\n",
       "      <td>1.732</td>\n",
       "    </tr>\n",
       "    <tr>\n",
       "      <th>2</th>\n",
       "      <td>2014-02-14 14:40:00</td>\n",
       "      <td>1.960</td>\n",
       "    </tr>\n",
       "    <tr>\n",
       "      <th>3</th>\n",
       "      <td>2014-02-14 14:45:00</td>\n",
       "      <td>1.732</td>\n",
       "    </tr>\n",
       "    <tr>\n",
       "      <th>4</th>\n",
       "      <td>2014-02-14 14:50:00</td>\n",
       "      <td>1.706</td>\n",
       "    </tr>\n",
       "  </tbody>\n",
       "</table>\n",
       "</div>"
      ],
      "text/plain": [
       "             timestamp  value\n",
       "0  2014-02-14 14:30:00  1.732\n",
       "1  2014-02-14 14:35:00  1.732\n",
       "2  2014-02-14 14:40:00  1.960\n",
       "3  2014-02-14 14:45:00  1.732\n",
       "4  2014-02-14 14:50:00  1.706"
      ]
     },
     "execution_count": 6,
     "metadata": {},
     "output_type": "execute_result"
    }
   ],
   "source": [
    "df_ratio_cpu_2.head()"
   ]
  },
  {
   "cell_type": "code",
   "execution_count": 7,
   "metadata": {},
   "outputs": [
    {
     "data": {
      "text/plain": [
       "<matplotlib.axes._subplots.AxesSubplot at 0x2074dafbaf0>"
      ]
     },
     "execution_count": 7,
     "metadata": {},
     "output_type": "execute_result"
    },
    {
     "data": {
      "image/png": "[encoded data removed]",
      "text/plain": [
       "<Figure size 432x288 with 1 Axes>"
      ]
     },
     "metadata": {
      "needs_background": "light"
     },
     "output_type": "display_data"
    }
   ],
   "source": [
    "df_ratio_cpu_2['value'].plot()"
   ]
  },
  {
   "cell_type": "code",
   "execution_count": 8,
   "metadata": {
    "scrolled": true
   },
   "outputs": [
    {
     "data": {
      "text/plain": [
       "<matplotlib.axes._subplots.AxesSubplot at 0x2074db82670>"
      ]
     },
     "execution_count": 8,
     "metadata": {},
     "output_type": "execute_result"
    },
    {
     "data": {
      "image/png": "[encoded data removed]",
      "text/plain": [
       "<Figure size 432x288 with 1 Axes>"
      ]
     },
     "metadata": {
      "needs_background": "light"
     },
     "output_type": "display_data"
    }
   ],
   "source": [
    "x = 300*1\n",
    "df_ratio_cpu['value'][151:x+150].plot()"
   ]
  },
  {
   "cell_type": "code",
   "execution_count": 9,
   "metadata": {},
   "outputs": [
    {
     "data": {
      "text/plain": [
       "<matplotlib.axes._subplots.AxesSubplot at 0x2074dd4f880>"
      ]
     },
     "execution_count": 9,
     "metadata": {},
     "output_type": "execute_result"
    },
    {
     "data": {
      "image/png": "[encoded data removed]",
      "text/plain": [
       "<Figure size 432x288 with 1 Axes>"
      ]
     },
     "metadata": {
      "needs_background": "light"
     },
     "output_type": "display_data"
    }
   ],
   "source": [
    "df_ratio_cpu['value'][200:250].plot()"
   ]
  },
  {
   "cell_type": "code",
   "execution_count": 10,
   "metadata": {},
   "outputs": [
    {
     "data": {
      "text/plain": [
       "<matplotlib.axes._subplots.AxesSubplot at 0x2074dda2070>"
      ]
     },
     "execution_count": 10,
     "metadata": {},
     "output_type": "execute_result"
    },
    {
     "data": {
      "image/png": "[encoded data removed]",
      "text/plain": [
       "<Figure size 432x288 with 1 Axes>"
      ]
     },
     "metadata": {
      "needs_background": "light"
     },
     "output_type": "display_data"
    }
   ],
   "source": [
    "df_ratio_cpu['value'][200:220].plot()"
   ]
  },
  {
   "cell_type": "code",
   "execution_count": 11,
   "metadata": {},
   "outputs": [],
   "source": [
    "import json"
   ]
  },
  {
   "cell_type": "code",
   "execution_count": 12,
   "metadata": {},
   "outputs": [],
   "source": [
    "json_open = open('NAB/labels/combined_labels.json', 'r')\n",
    "json_load = json.load(json_open)"
   ]
  },
  {
   "cell_type": "code",
   "execution_count": 13,
   "metadata": {},
   "outputs": [],
   "source": [
    "list_anomaly_time = json_load['realAWSCloudwatch/ec2_cpu_utilization_24ae8d.csv']"
   ]
  },
  {
   "cell_type": "code",
   "execution_count": 14,
   "metadata": {},
   "outputs": [],
   "source": [
    "df_ratio_cpu['label'] = [0] * len(df_ratio_cpu['value'])"
   ]
  },
  {
   "cell_type": "code",
   "execution_count": 15,
   "metadata": {},
   "outputs": [],
   "source": [
    "for t in json_load['realAWSCloudwatch/ec2_cpu_utilization_24ae8d.csv']:\n",
    "    df_ratio_cpu.loc[df_ratio_cpu['timestamp']==t, 'label'] = 1"
   ]
  },
  {
   "cell_type": "code",
   "execution_count": 16,
   "metadata": {},
   "outputs": [
    {
     "name": "stdout",
     "output_type": "stream",
     "text": [
      "                timestamp  value  label\n",
      "3547  2014-02-26 22:05:00  2.344      1\n",
      "                timestamp  value  label\n",
      "3777  2014-02-27 17:15:00  0.602      1\n"
     ]
    }
   ],
   "source": [
    "for t in json_load['realAWSCloudwatch/ec2_cpu_utilization_24ae8d.csv']:\n",
    "    print(df_ratio_cpu[df_ratio_cpu['timestamp']==t])"
   ]
  },
  {
   "cell_type": "code",
   "execution_count": 98,
   "metadata": {
    "scrolled": true
   },
   "outputs": [
    {
     "data": {
      "text/html": [
       "<div>\n",
       "<style scoped>\n",
       "    .dataframe tbody tr th:only-of-type {\n",
       "        vertical-align: middle;\n",
       "    }\n",
       "\n",
       "    .dataframe tbody tr th {\n",
       "        vertical-align: top;\n",
       "    }\n",
       "\n",
       "    .dataframe thead th {\n",
       "        text-align: right;\n",
       "    }\n",
       "</style>\n",
       "<table border=\"1\" class=\"dataframe\">\n",
       "  <thead>\n",
       "    <tr style=\"text-align: right;\">\n",
       "      <th></th>\n",
       "      <th>timestamp</th>\n",
       "      <th>value</th>\n",
       "      <th>label</th>\n",
       "    </tr>\n",
       "  </thead>\n",
       "  <tbody>\n",
       "    <tr>\n",
       "      <th>151</th>\n",
       "      <td>2014-02-15 03:05:00</td>\n",
       "      <td>1.466</td>\n",
       "      <td>0</td>\n",
       "    </tr>\n",
       "    <tr>\n",
       "      <th>439</th>\n",
       "      <td>2014-02-16 03:05:00</td>\n",
       "      <td>1.534</td>\n",
       "      <td>0</td>\n",
       "    </tr>\n",
       "    <tr>\n",
       "      <th>729</th>\n",
       "      <td>2014-02-17 03:15:00</td>\n",
       "      <td>1.398</td>\n",
       "      <td>0</td>\n",
       "    </tr>\n",
       "    <tr>\n",
       "      <th>1018</th>\n",
       "      <td>2014-02-18 03:20:00</td>\n",
       "      <td>1.534</td>\n",
       "      <td>0</td>\n",
       "    </tr>\n",
       "    <tr>\n",
       "      <th>1309</th>\n",
       "      <td>2014-02-19 03:35:00</td>\n",
       "      <td>1.444</td>\n",
       "      <td>0</td>\n",
       "    </tr>\n",
       "    <tr>\n",
       "      <th>1597</th>\n",
       "      <td>2014-02-20 03:35:00</td>\n",
       "      <td>1.598</td>\n",
       "      <td>0</td>\n",
       "    </tr>\n",
       "    <tr>\n",
       "      <th>1883</th>\n",
       "      <td>2014-02-21 03:25:00</td>\n",
       "      <td>1.600</td>\n",
       "      <td>0</td>\n",
       "    </tr>\n",
       "    <tr>\n",
       "      <th>2172</th>\n",
       "      <td>2014-02-22 03:30:00</td>\n",
       "      <td>1.468</td>\n",
       "      <td>0</td>\n",
       "    </tr>\n",
       "    <tr>\n",
       "      <th>2461</th>\n",
       "      <td>2014-02-23 03:35:00</td>\n",
       "      <td>1.444</td>\n",
       "      <td>0</td>\n",
       "    </tr>\n",
       "    <tr>\n",
       "      <th>2748</th>\n",
       "      <td>2014-02-24 03:30:00</td>\n",
       "      <td>1.466</td>\n",
       "      <td>0</td>\n",
       "    </tr>\n",
       "    <tr>\n",
       "      <th>3032</th>\n",
       "      <td>2014-02-25 03:10:00</td>\n",
       "      <td>1.490</td>\n",
       "      <td>0</td>\n",
       "    </tr>\n",
       "    <tr>\n",
       "      <th>3321</th>\n",
       "      <td>2014-02-26 03:15:00</td>\n",
       "      <td>1.534</td>\n",
       "      <td>0</td>\n",
       "    </tr>\n",
       "    <tr>\n",
       "      <th>3614</th>\n",
       "      <td>2014-02-27 03:40:00</td>\n",
       "      <td>1.532</td>\n",
       "      <td>0</td>\n",
       "    </tr>\n",
       "    <tr>\n",
       "      <th>3898</th>\n",
       "      <td>2014-02-28 03:20:00</td>\n",
       "      <td>1.600</td>\n",
       "      <td>0</td>\n",
       "    </tr>\n",
       "  </tbody>\n",
       "</table>\n",
       "</div>"
      ],
      "text/plain": [
       "                timestamp  value  label\n",
       "151   2014-02-15 03:05:00  1.466      0\n",
       "439   2014-02-16 03:05:00  1.534      0\n",
       "729   2014-02-17 03:15:00  1.398      0\n",
       "1018  2014-02-18 03:20:00  1.534      0\n",
       "1309  2014-02-19 03:35:00  1.444      0\n",
       "1597  2014-02-20 03:35:00  1.598      0\n",
       "1883  2014-02-21 03:25:00  1.600      0\n",
       "2172  2014-02-22 03:30:00  1.468      0\n",
       "2461  2014-02-23 03:35:00  1.444      0\n",
       "2748  2014-02-24 03:30:00  1.466      0\n",
       "3032  2014-02-25 03:10:00  1.490      0\n",
       "3321  2014-02-26 03:15:00  1.534      0\n",
       "3614  2014-02-27 03:40:00  1.532      0\n",
       "3898  2014-02-28 03:20:00  1.600      0"
      ]
     },
     "execution_count": 98,
     "metadata": {},
     "output_type": "execute_result"
    }
   ],
   "source": [
    "df_ratio_cpu[(df_ratio_cpu['value']>1.3) & (df_ratio_cpu['label'] != 1)]"
   ]
  },
  {
   "cell_type": "code",
   "execution_count": 79,
   "metadata": {},
   "outputs": [],
   "source": [
    "list_idx = []\n",
    "for idx in df_ratio_cpu[(df_ratio_cpu['value']>1.3) & (df_ratio_cpu['label'] != 1)].index:\n",
    "    list_idx.append(idx)"
   ]
  },
  {
   "cell_type": "code",
   "execution_count": 83,
   "metadata": {},
   "outputs": [],
   "source": [
    "list_idx_interval = []\n",
    "for i in range(len(list_idx)-1):\n",
    "    list_idx_interval.append(list_idx[i+1] - list_idx[i])\n",
    "    \n",
    "list_idx_interval = np.array(list_idx_interval)"
   ]
  },
  {
   "cell_type": "code",
   "execution_count": 115,
   "metadata": {},
   "outputs": [
    {
     "data": {
      "text/plain": [
       "289.0"
      ]
     },
     "execution_count": 115,
     "metadata": {},
     "output_type": "execute_result"
    }
   ],
   "source": [
    "np.median(list_idx_interval)"
   ]
  },
  {
   "cell_type": "code",
   "execution_count": 18,
   "metadata": {},
   "outputs": [],
   "source": [
    "import numpy as np"
   ]
  },
  {
   "cell_type": "code",
   "execution_count": 117,
   "metadata": {
    "scrolled": true
   },
   "outputs": [],
   "source": [
    "#トレーニングデータの作成\n",
    "series_ratio_cpu_value = df_ratio_cpu['value']\n",
    "window_size = 289 #10では偽陰性が100% 3だと偽陰性100%擬陽性も2件\n",
    "tmp_x = []\n",
    "tmp_y = []\n",
    "\n",
    "for i in range(152, len(series_ratio_cpu_value) - window_size):\n",
    "    tmp_x.append(series_ratio_cpu_value[i:i+window_size])\n",
    "    \n",
    "    if df_ratio_cpu['timestamp'][i+window_size] in list_anomaly_time:\n",
    "        tmp_y.append(1)\n",
    "    else:\n",
    "        tmp_y.append(0)\n",
    "    \n",
    "train_X = np.array(tmp_x)\n",
    "train_Y = np.array(tmp_y)"
   ]
  },
  {
   "cell_type": "code",
   "execution_count": 118,
   "metadata": {},
   "outputs": [
    {
     "data": {
      "text/plain": [
       "0.066"
      ]
     },
     "execution_count": 118,
     "metadata": {},
     "output_type": "execute_result"
    }
   ],
   "source": [
    "series_ratio_cpu_value.min()"
   ]
  },
  {
   "cell_type": "code",
   "execution_count": 102,
   "metadata": {},
   "outputs": [],
   "source": [
    "#標準化：多変量の時に変数間の値に差があるときに使用\n",
    "#train_X = (train_X - np.mean(train_X)) / np.std(train_X)\n",
    "\n",
    "#正規化\n",
    "#train_X /= np.nanmax(np.abs(train_X))"
   ]
  },
  {
   "cell_type": "code",
   "execution_count": 103,
   "metadata": {},
   "outputs": [
    {
     "data": {
      "text/plain": [
       "array([[0.066, 0.134, 0.134, ..., 0.066, 0.134, 0.068],\n",
       "       [0.134, 0.134, 0.134, ..., 0.134, 0.068, 0.132],\n",
       "       [0.134, 0.134, 0.134, ..., 0.068, 0.132, 0.134],\n",
       "       ...,\n",
       "       [0.134, 0.132, 0.132, ..., 0.132, 0.132, 0.134],\n",
       "       [0.132, 0.132, 0.066, ..., 0.132, 0.134, 0.134],\n",
       "       [0.132, 0.066, 0.134, ..., 0.134, 0.134, 0.134]])"
      ]
     },
     "execution_count": 103,
     "metadata": {},
     "output_type": "execute_result"
    }
   ],
   "source": [
    "train_X"
   ]
  },
  {
   "cell_type": "code",
   "execution_count": 104,
   "metadata": {},
   "outputs": [
    {
     "data": {
      "text/plain": [
       "array([0, 0, 0, ..., 0, 0, 0])"
      ]
     },
     "execution_count": 104,
     "metadata": {},
     "output_type": "execute_result"
    }
   ],
   "source": [
    "train_Y"
   ]
  },
  {
   "cell_type": "markdown",
   "metadata": {},
   "source": [
    "### モデルの作成"
   ]
  },
  {
   "cell_type": "code",
   "execution_count": 105,
   "metadata": {},
   "outputs": [],
   "source": [
    "from tensorflow import keras\n",
    "from tensorflow.keras import layers\n",
    "from keras.models import Sequential\n",
    "from keras.layers import Dense, Activation, LSTM\n",
    "from keras import optimizers\n",
    "from keras.layers.recurrent import SimpleRNN\n",
    "from keras.callbacks import EarlyStopping\n",
    "import tensorflow_addons as tfa\n",
    "import focal_loss\n",
    "from sklearn.metrics import confusion_matrix\n",
    "from keras.utils.np_utils import to_categorical"
   ]
  },
  {
   "cell_type": "code",
   "execution_count": 106,
   "metadata": {},
   "outputs": [],
   "source": [
    "train_X = np.array(train_X).reshape(len(train_X), window_size, 1)\n",
    "train_Y = np.array(train_Y).reshape(len(train_Y), 1)"
   ]
  },
  {
   "cell_type": "code",
   "execution_count": 107,
   "metadata": {},
   "outputs": [
    {
     "data": {
      "text/plain": [
       "array([[0.066],\n",
       "       [0.134],\n",
       "       [0.134],\n",
       "       [0.134],\n",
       "       [0.134],\n",
       "       [0.134],\n",
       "       [0.132],\n",
       "       [0.066],\n",
       "       [0.134],\n",
       "       [0.132],\n",
       "       [0.134],\n",
       "       [0.066],\n",
       "       [0.134],\n",
       "       [0.134],\n",
       "       [0.134],\n",
       "       [0.068],\n",
       "       [0.132],\n",
       "       [0.134],\n",
       "       [0.066],\n",
       "       [0.132],\n",
       "       [0.134],\n",
       "       [0.134],\n",
       "       [0.066],\n",
       "       [0.134],\n",
       "       [0.132],\n",
       "       [0.134],\n",
       "       [0.066],\n",
       "       [0.136],\n",
       "       [0.068],\n",
       "       [0.132],\n",
       "       [0.132],\n",
       "       [0.134],\n",
       "       [0.134],\n",
       "       [0.2  ],\n",
       "       [0.066],\n",
       "       [0.134],\n",
       "       [0.134],\n",
       "       [0.068],\n",
       "       [0.132],\n",
       "       [0.066],\n",
       "       [0.132],\n",
       "       [0.136],\n",
       "       [0.066],\n",
       "       [0.132],\n",
       "       [0.134],\n",
       "       [0.134],\n",
       "       [0.066],\n",
       "       [0.134],\n",
       "       [0.132],\n",
       "       [0.066],\n",
       "       [0.134],\n",
       "       [0.134],\n",
       "       [0.134],\n",
       "       [0.066],\n",
       "       [0.134],\n",
       "       [0.132],\n",
       "       [0.066],\n",
       "       [0.134],\n",
       "       [0.134],\n",
       "       [0.134],\n",
       "       [0.068],\n",
       "       [0.134],\n",
       "       [0.068],\n",
       "       [0.132],\n",
       "       [0.134],\n",
       "       [0.134],\n",
       "       [0.066],\n",
       "       [0.134],\n",
       "       [0.134],\n",
       "       [0.134],\n",
       "       [0.066],\n",
       "       [0.132],\n",
       "       [0.134],\n",
       "       [0.066],\n",
       "       [0.134],\n",
       "       [0.134],\n",
       "       [0.134],\n",
       "       [0.066],\n",
       "       [0.134],\n",
       "       [0.134],\n",
       "       [0.132],\n",
       "       [0.134],\n",
       "       [0.068],\n",
       "       [0.134],\n",
       "       [0.132],\n",
       "       [0.066],\n",
       "       [0.134],\n",
       "       [0.134],\n",
       "       [0.066],\n",
       "       [0.132],\n",
       "       [0.132],\n",
       "       [0.134],\n",
       "       [0.134],\n",
       "       [0.132],\n",
       "       [0.068],\n",
       "       [0.132],\n",
       "       [0.132],\n",
       "       [0.134],\n",
       "       [0.066],\n",
       "       [0.134],\n",
       "       [0.066],\n",
       "       [0.132],\n",
       "       [0.136],\n",
       "       [0.134],\n",
       "       [0.068],\n",
       "       [0.132],\n",
       "       [0.132],\n",
       "       [0.134],\n",
       "       [0.134],\n",
       "       [0.132],\n",
       "       [0.066],\n",
       "       [0.134],\n",
       "       [0.132],\n",
       "       [0.134],\n",
       "       [0.134],\n",
       "       [0.066],\n",
       "       [0.134],\n",
       "       [0.2  ],\n",
       "       [0.134],\n",
       "       [0.066],\n",
       "       [0.134],\n",
       "       [0.136],\n",
       "       [0.134],\n",
       "       [0.066],\n",
       "       [0.134],\n",
       "       [0.134],\n",
       "       [0.134],\n",
       "       [0.134],\n",
       "       [0.134],\n",
       "       [0.134],\n",
       "       [0.134],\n",
       "       [0.066],\n",
       "       [0.134],\n",
       "       [0.134],\n",
       "       [0.132],\n",
       "       [0.134],\n",
       "       [0.134],\n",
       "       [0.066],\n",
       "       [0.134],\n",
       "       [0.134],\n",
       "       [0.132],\n",
       "       [0.132],\n",
       "       [0.134],\n",
       "       [0.132],\n",
       "       [0.066],\n",
       "       [0.132],\n",
       "       [0.134],\n",
       "       [0.132],\n",
       "       [0.134],\n",
       "       [0.068],\n",
       "       [0.134],\n",
       "       [0.134],\n",
       "       [0.134],\n",
       "       [0.134],\n",
       "       [0.132],\n",
       "       [0.204],\n",
       "       [0.066],\n",
       "       [0.132],\n",
       "       [0.134],\n",
       "       [0.066],\n",
       "       [0.134],\n",
       "       [0.134],\n",
       "       [0.134],\n",
       "       [0.066],\n",
       "       [0.134],\n",
       "       [0.134],\n",
       "       [0.134],\n",
       "       [0.132],\n",
       "       [0.134],\n",
       "       [0.134],\n",
       "       [0.066],\n",
       "       [0.134],\n",
       "       [0.136],\n",
       "       [0.134],\n",
       "       [0.066],\n",
       "       [0.134],\n",
       "       [0.134],\n",
       "       [0.132],\n",
       "       [0.134],\n",
       "       [0.134],\n",
       "       [0.134],\n",
       "       [0.068],\n",
       "       [0.134],\n",
       "       [0.066],\n",
       "       [0.132],\n",
       "       [0.132],\n",
       "       [0.066],\n",
       "       [0.132],\n",
       "       [0.134],\n",
       "       [0.134],\n",
       "       [0.134],\n",
       "       [0.134],\n",
       "       [0.132],\n",
       "       [0.134],\n",
       "       [0.134],\n",
       "       [0.066],\n",
       "       [0.134],\n",
       "       [0.134],\n",
       "       [0.134],\n",
       "       [0.066],\n",
       "       [0.132],\n",
       "       [0.132],\n",
       "       [0.134],\n",
       "       [0.066],\n",
       "       [0.136],\n",
       "       [0.134],\n",
       "       [0.134],\n",
       "       [0.132],\n",
       "       [0.068],\n",
       "       [0.132],\n",
       "       [0.134],\n",
       "       [0.066],\n",
       "       [0.132],\n",
       "       [0.134],\n",
       "       [0.134],\n",
       "       [0.134],\n",
       "       [0.066],\n",
       "       [0.134],\n",
       "       [0.134],\n",
       "       [0.134],\n",
       "       [0.066],\n",
       "       [0.134],\n",
       "       [0.066],\n",
       "       [0.134],\n",
       "       [0.136],\n",
       "       [0.136],\n",
       "       [0.134],\n",
       "       [0.066],\n",
       "       [0.134],\n",
       "       [0.134],\n",
       "       [0.134],\n",
       "       [0.066],\n",
       "       [0.134],\n",
       "       [0.132],\n",
       "       [0.066],\n",
       "       [0.134],\n",
       "       [0.134],\n",
       "       [0.136],\n",
       "       [0.066],\n",
       "       [0.134],\n",
       "       [0.134],\n",
       "       [0.066],\n",
       "       [0.134],\n",
       "       [0.134],\n",
       "       [0.066],\n",
       "       [0.134],\n",
       "       [0.134],\n",
       "       [0.066],\n",
       "       [0.132],\n",
       "       [0.134],\n",
       "       [0.134],\n",
       "       [0.134],\n",
       "       [0.066],\n",
       "       [0.132],\n",
       "       [0.068],\n",
       "       [0.132],\n",
       "       [0.134],\n",
       "       [0.066],\n",
       "       [0.134],\n",
       "       [0.136],\n",
       "       [0.068],\n",
       "       [0.134],\n",
       "       [0.134],\n",
       "       [0.134],\n",
       "       [0.066],\n",
       "       [0.134],\n",
       "       [0.134],\n",
       "       [0.134],\n",
       "       [0.132],\n",
       "       [0.066],\n",
       "       [0.134],\n",
       "       [0.134],\n",
       "       [0.198],\n",
       "       [0.134],\n",
       "       [0.134],\n",
       "       [0.136],\n",
       "       [0.132],\n",
       "       [0.066],\n",
       "       [0.132],\n",
       "       [0.066],\n",
       "       [0.134],\n",
       "       [0.132],\n",
       "       [0.068],\n",
       "       [0.134],\n",
       "       [0.134],\n",
       "       [0.134],\n",
       "       [0.134],\n",
       "       [1.534],\n",
       "       [0.134],\n",
       "       [0.134],\n",
       "       [0.066],\n",
       "       [0.134],\n",
       "       [0.068]])"
      ]
     },
     "execution_count": 107,
     "metadata": {},
     "output_type": "execute_result"
    }
   ],
   "source": [
    "train_X[0]"
   ]
  },
  {
   "cell_type": "code",
   "execution_count": 108,
   "metadata": {},
   "outputs": [],
   "source": [
    "from sklearn.model_selection import StratifiedKFold\n",
    "\n",
    "kfold = StratifiedKFold(n_splits=2, shuffle=True, random_state=0)"
   ]
  },
  {
   "cell_type": "code",
   "execution_count": 109,
   "metadata": {},
   "outputs": [],
   "source": [
    "for train, val in kfold.split(train_X, train_Y):\n",
    "    train_X_skf = train_X[train]\n",
    "    train_Y_skf = train_Y[train]\n",
    "    \n",
    "    val_X_skf =  train_X[val]\n",
    "    val_Y_skf =  train_Y[val]"
   ]
  },
  {
   "cell_type": "code",
   "execution_count": 110,
   "metadata": {},
   "outputs": [
    {
     "data": {
      "text/plain": [
       "array([[0],\n",
       "       [0],\n",
       "       [0],\n",
       "       ...,\n",
       "       [0],\n",
       "       [0],\n",
       "       [0]])"
      ]
     },
     "execution_count": 110,
     "metadata": {},
     "output_type": "execute_result"
    }
   ],
   "source": [
    "val_Y_skf"
   ]
  },
  {
   "cell_type": "code",
   "execution_count": 111,
   "metadata": {},
   "outputs": [],
   "source": [
    "#sigmoid\n",
    "def build_rnn_model(units):\n",
    "    # モデルの構築\n",
    "    rnn_model = Sequential()\n",
    "    rnn_model.add(LSTM(units, input_shape=(None, 1), return_sequences=False, recurrent_activation='relu'))\n",
    "    rnn_model.add(Dense(1, activation='sigmoid'))  #全結合層\n",
    "    rnn_model.compile(loss= tfa.losses.focal_loss.SigmoidFocalCrossEntropy(), optimizer=optimizers.Adam(amsgrad=True), metrics=['accuracy'])\n",
    "    #rnn_model.summary()\n",
    "\n",
    "    return rnn_model"
   ]
  },
  {
   "cell_type": "code",
   "execution_count": 112,
   "metadata": {
    "scrolled": true
   },
   "outputs": [],
   "source": [
    "#input_shape = (len(train_Y), window_size, 1)\n",
    "units = 300\n",
    "\n",
    "model = build_rnn_model(units)\n",
    "\n",
    "epochs = 100000\n",
    "batch_size = len(train_Y_skf)#//10\n",
    "early_stopping = EarlyStopping(monitor='val_loss', patience=1, verbose=0)"
   ]
  },
  {
   "cell_type": "code",
   "execution_count": 113,
   "metadata": {
    "scrolled": true
   },
   "outputs": [
    {
     "name": "stdout",
     "output_type": "stream",
     "text": [
      "Epoch 1/100000\n",
      "1/1 [==============================] - 12s 12s/step - loss: 0.1299 - accuracy: 5.5741e-04 - val_loss: 0.1296 - val_accuracy: 0.9994\n",
      "Epoch 2/100000\n",
      "1/1 [==============================] - 10s 10s/step - loss: 0.1296 - accuracy: 0.9994 - val_loss: 0.1293 - val_accuracy: 0.9994\n",
      "Epoch 3/100000\n",
      "1/1 [==============================] - 10s 10s/step - loss: 0.1293 - accuracy: 0.9994 - val_loss: 0.1290 - val_accuracy: 0.9994\n",
      "Epoch 4/100000\n",
      "1/1 [==============================] - 9s 9s/step - loss: 0.1290 - accuracy: 0.9994 - val_loss: 0.1286 - val_accuracy: 0.9994\n",
      "Epoch 5/100000\n",
      "1/1 [==============================] - 10s 10s/step - loss: 0.1286 - accuracy: 0.9994 - val_loss: 0.1281 - val_accuracy: 0.9994\n",
      "Epoch 6/100000\n",
      "1/1 [==============================] - 9s 9s/step - loss: 0.1280 - accuracy: 0.9994 - val_loss: 0.1274 - val_accuracy: 0.9994\n",
      "Epoch 7/100000\n",
      "1/1 [==============================] - 9s 9s/step - loss: 0.1274 - accuracy: 0.9994 - val_loss: 0.1265 - val_accuracy: 0.9994\n",
      "Epoch 8/100000\n",
      "1/1 [==============================] - 9s 9s/step - loss: 0.1265 - accuracy: 0.9994 - val_loss: 0.1253 - val_accuracy: 0.9994\n",
      "Epoch 9/100000\n",
      "1/1 [==============================] - 9s 9s/step - loss: 0.1253 - accuracy: 0.9994 - val_loss: 0.1238 - val_accuracy: 0.9994\n",
      "Epoch 10/100000\n",
      "1/1 [==============================] - 9s 9s/step - loss: 0.1237 - accuracy: 0.9994 - val_loss: 0.1219 - val_accuracy: 0.9994\n",
      "Epoch 11/100000\n",
      "1/1 [==============================] - 9s 9s/step - loss: 0.1218 - accuracy: 0.9994 - val_loss: 0.1195 - val_accuracy: 0.9994\n",
      "Epoch 12/100000\n",
      "1/1 [==============================] - 9s 9s/step - loss: 0.1194 - accuracy: 0.9994 - val_loss: 0.1165 - val_accuracy: 0.9994\n",
      "Epoch 13/100000\n",
      "1/1 [==============================] - 11s 11s/step - loss: 0.1164 - accuracy: 0.9994 - val_loss: 0.1123 - val_accuracy: 0.9994\n",
      "Epoch 14/100000\n",
      "1/1 [==============================] - 9s 9s/step - loss: 0.1122 - accuracy: 0.9994 - val_loss: 0.1070 - val_accuracy: 0.9994\n",
      "Epoch 15/100000\n",
      "1/1 [==============================] - 13s 13s/step - loss: 0.1069 - accuracy: 0.9994 - val_loss: 0.1015 - val_accuracy: 0.9994\n",
      "Epoch 16/100000\n",
      "1/1 [==============================] - 9s 9s/step - loss: 0.1014 - accuracy: 0.9994 - val_loss: 0.0956 - val_accuracy: 0.9994\n",
      "Epoch 17/100000\n",
      "1/1 [==============================] - 9s 9s/step - loss: 0.0955 - accuracy: 0.9994 - val_loss: 0.0880 - val_accuracy: 0.9994\n",
      "Epoch 18/100000\n",
      "1/1 [==============================] - 9s 9s/step - loss: 0.0879 - accuracy: 0.9994 - val_loss: 0.0778 - val_accuracy: 0.9994\n",
      "Epoch 19/100000\n",
      "1/1 [==============================] - 10s 10s/step - loss: 0.0776 - accuracy: 0.9994 - val_loss: 0.0626 - val_accuracy: 0.9994\n",
      "Epoch 20/100000\n",
      "1/1 [==============================] - 11s 11s/step - loss: 0.0625 - accuracy: 0.9994 - val_loss: 0.0411 - val_accuracy: 0.9994\n",
      "Epoch 21/100000\n",
      "1/1 [==============================] - 10s 10s/step - loss: 0.0409 - accuracy: 0.9994 - val_loss: 0.0143 - val_accuracy: 0.9994\n",
      "Epoch 22/100000\n",
      "1/1 [==============================] - ETA: 0s - loss: 0.0143 - accuracy: 0.9994"
     ]
    },
    {
     "ename": "KeyboardInterrupt",
     "evalue": "",
     "output_type": "error",
     "traceback": [
      "\u001b[1;31m---------------------------------------------------------------------------\u001b[0m",
      "\u001b[1;31mKeyboardInterrupt\u001b[0m                         Traceback (most recent call last)",
      "\u001b[1;32m<ipython-input-113-e2d97121d2bd>\u001b[0m in \u001b[0;36m<module>\u001b[1;34m\u001b[0m\n\u001b[1;32m----> 1\u001b[1;33m rnn_history = model.fit(train_X_skf, train_Y_skf,\n\u001b[0m\u001b[0;32m      2\u001b[0m                         \u001b[0mbatch_size\u001b[0m\u001b[1;33m=\u001b[0m\u001b[0mbatch_size\u001b[0m\u001b[1;33m,\u001b[0m\u001b[1;33m\u001b[0m\u001b[1;33m\u001b[0m\u001b[0m\n\u001b[0;32m      3\u001b[0m                         \u001b[0mepochs\u001b[0m\u001b[1;33m=\u001b[0m\u001b[0mepochs\u001b[0m\u001b[1;33m,\u001b[0m\u001b[1;33m\u001b[0m\u001b[1;33m\u001b[0m\u001b[0m\n\u001b[0;32m      4\u001b[0m                         \u001b[0mcallbacks\u001b[0m\u001b[1;33m=\u001b[0m\u001b[0mearly_stopping\u001b[0m\u001b[1;33m,\u001b[0m\u001b[1;33m\u001b[0m\u001b[1;33m\u001b[0m\u001b[0m\n\u001b[0;32m      5\u001b[0m                        \u001b[1;31m#)\u001b[0m\u001b[1;33m\u001b[0m\u001b[1;33m\u001b[0m\u001b[1;33m\u001b[0m\u001b[0m\n",
      "\u001b[1;32m~\\anaconda3\\lib\\site-packages\\tensorflow\\python\\keras\\engine\\training.py\u001b[0m in \u001b[0;36m_method_wrapper\u001b[1;34m(self, *args, **kwargs)\u001b[0m\n\u001b[0;32m     64\u001b[0m   \u001b[1;32mdef\u001b[0m \u001b[0m_method_wrapper\u001b[0m\u001b[1;33m(\u001b[0m\u001b[0mself\u001b[0m\u001b[1;33m,\u001b[0m \u001b[1;33m*\u001b[0m\u001b[0margs\u001b[0m\u001b[1;33m,\u001b[0m \u001b[1;33m**\u001b[0m\u001b[0mkwargs\u001b[0m\u001b[1;33m)\u001b[0m\u001b[1;33m:\u001b[0m\u001b[1;33m\u001b[0m\u001b[1;33m\u001b[0m\u001b[0m\n\u001b[0;32m     65\u001b[0m     \u001b[1;32mif\u001b[0m \u001b[1;32mnot\u001b[0m \u001b[0mself\u001b[0m\u001b[1;33m.\u001b[0m\u001b[0m_in_multi_worker_mode\u001b[0m\u001b[1;33m(\u001b[0m\u001b[1;33m)\u001b[0m\u001b[1;33m:\u001b[0m  \u001b[1;31m# pylint: disable=protected-access\u001b[0m\u001b[1;33m\u001b[0m\u001b[1;33m\u001b[0m\u001b[0m\n\u001b[1;32m---> 66\u001b[1;33m       \u001b[1;32mreturn\u001b[0m \u001b[0mmethod\u001b[0m\u001b[1;33m(\u001b[0m\u001b[0mself\u001b[0m\u001b[1;33m,\u001b[0m \u001b[1;33m*\u001b[0m\u001b[0margs\u001b[0m\u001b[1;33m,\u001b[0m \u001b[1;33m**\u001b[0m\u001b[0mkwargs\u001b[0m\u001b[1;33m)\u001b[0m\u001b[1;33m\u001b[0m\u001b[1;33m\u001b[0m\u001b[0m\n\u001b[0m\u001b[0;32m     67\u001b[0m \u001b[1;33m\u001b[0m\u001b[0m\n\u001b[0;32m     68\u001b[0m     \u001b[1;31m# Running inside `run_distribute_coordinator` already.\u001b[0m\u001b[1;33m\u001b[0m\u001b[1;33m\u001b[0m\u001b[1;33m\u001b[0m\u001b[0m\n",
      "\u001b[1;32m~\\anaconda3\\lib\\site-packages\\tensorflow\\python\\keras\\engine\\training.py\u001b[0m in \u001b[0;36mfit\u001b[1;34m(self, x, y, batch_size, epochs, verbose, callbacks, validation_split, validation_data, shuffle, class_weight, sample_weight, initial_epoch, steps_per_epoch, validation_steps, validation_batch_size, validation_freq, max_queue_size, workers, use_multiprocessing)\u001b[0m\n\u001b[0;32m    860\u001b[0m           val_x, val_y, val_sample_weight = (\n\u001b[0;32m    861\u001b[0m               data_adapter.unpack_x_y_sample_weight(validation_data))\n\u001b[1;32m--> 862\u001b[1;33m           val_logs = self.evaluate(\n\u001b[0m\u001b[0;32m    863\u001b[0m               \u001b[0mx\u001b[0m\u001b[1;33m=\u001b[0m\u001b[0mval_x\u001b[0m\u001b[1;33m,\u001b[0m\u001b[1;33m\u001b[0m\u001b[1;33m\u001b[0m\u001b[0m\n\u001b[0;32m    864\u001b[0m               \u001b[0my\u001b[0m\u001b[1;33m=\u001b[0m\u001b[0mval_y\u001b[0m\u001b[1;33m,\u001b[0m\u001b[1;33m\u001b[0m\u001b[1;33m\u001b[0m\u001b[0m\n",
      "\u001b[1;32m~\\anaconda3\\lib\\site-packages\\tensorflow\\python\\keras\\engine\\training.py\u001b[0m in \u001b[0;36m_method_wrapper\u001b[1;34m(self, *args, **kwargs)\u001b[0m\n\u001b[0;32m     64\u001b[0m   \u001b[1;32mdef\u001b[0m \u001b[0m_method_wrapper\u001b[0m\u001b[1;33m(\u001b[0m\u001b[0mself\u001b[0m\u001b[1;33m,\u001b[0m \u001b[1;33m*\u001b[0m\u001b[0margs\u001b[0m\u001b[1;33m,\u001b[0m \u001b[1;33m**\u001b[0m\u001b[0mkwargs\u001b[0m\u001b[1;33m)\u001b[0m\u001b[1;33m:\u001b[0m\u001b[1;33m\u001b[0m\u001b[1;33m\u001b[0m\u001b[0m\n\u001b[0;32m     65\u001b[0m     \u001b[1;32mif\u001b[0m \u001b[1;32mnot\u001b[0m \u001b[0mself\u001b[0m\u001b[1;33m.\u001b[0m\u001b[0m_in_multi_worker_mode\u001b[0m\u001b[1;33m(\u001b[0m\u001b[1;33m)\u001b[0m\u001b[1;33m:\u001b[0m  \u001b[1;31m# pylint: disable=protected-access\u001b[0m\u001b[1;33m\u001b[0m\u001b[1;33m\u001b[0m\u001b[0m\n\u001b[1;32m---> 66\u001b[1;33m       \u001b[1;32mreturn\u001b[0m \u001b[0mmethod\u001b[0m\u001b[1;33m(\u001b[0m\u001b[0mself\u001b[0m\u001b[1;33m,\u001b[0m \u001b[1;33m*\u001b[0m\u001b[0margs\u001b[0m\u001b[1;33m,\u001b[0m \u001b[1;33m**\u001b[0m\u001b[0mkwargs\u001b[0m\u001b[1;33m)\u001b[0m\u001b[1;33m\u001b[0m\u001b[1;33m\u001b[0m\u001b[0m\n\u001b[0m\u001b[0;32m     67\u001b[0m \u001b[1;33m\u001b[0m\u001b[0m\n\u001b[0;32m     68\u001b[0m     \u001b[1;31m# Running inside `run_distribute_coordinator` already.\u001b[0m\u001b[1;33m\u001b[0m\u001b[1;33m\u001b[0m\u001b[1;33m\u001b[0m\u001b[0m\n",
      "\u001b[1;32m~\\anaconda3\\lib\\site-packages\\tensorflow\\python\\keras\\engine\\training.py\u001b[0m in \u001b[0;36mevaluate\u001b[1;34m(self, x, y, batch_size, verbose, sample_weight, steps, callbacks, max_queue_size, workers, use_multiprocessing, return_dict)\u001b[0m\n\u001b[0;32m   1079\u001b[0m                 step_num=step):\n\u001b[0;32m   1080\u001b[0m               \u001b[0mcallbacks\u001b[0m\u001b[1;33m.\u001b[0m\u001b[0mon_test_batch_begin\u001b[0m\u001b[1;33m(\u001b[0m\u001b[0mstep\u001b[0m\u001b[1;33m)\u001b[0m\u001b[1;33m\u001b[0m\u001b[1;33m\u001b[0m\u001b[0m\n\u001b[1;32m-> 1081\u001b[1;33m               \u001b[0mtmp_logs\u001b[0m \u001b[1;33m=\u001b[0m \u001b[0mtest_function\u001b[0m\u001b[1;33m(\u001b[0m\u001b[0miterator\u001b[0m\u001b[1;33m)\u001b[0m\u001b[1;33m\u001b[0m\u001b[1;33m\u001b[0m\u001b[0m\n\u001b[0m\u001b[0;32m   1082\u001b[0m               \u001b[1;31m# Catch OutOfRangeError for Datasets of unknown size.\u001b[0m\u001b[1;33m\u001b[0m\u001b[1;33m\u001b[0m\u001b[1;33m\u001b[0m\u001b[0m\n\u001b[0;32m   1083\u001b[0m               \u001b[1;31m# This blocks until the batch has finished executing.\u001b[0m\u001b[1;33m\u001b[0m\u001b[1;33m\u001b[0m\u001b[1;33m\u001b[0m\u001b[0m\n",
      "\u001b[1;32m~\\anaconda3\\lib\\site-packages\\tensorflow\\python\\eager\\def_function.py\u001b[0m in \u001b[0;36m__call__\u001b[1;34m(self, *args, **kwds)\u001b[0m\n\u001b[0;32m    578\u001b[0m         \u001b[0mxla_context\u001b[0m\u001b[1;33m.\u001b[0m\u001b[0mExit\u001b[0m\u001b[1;33m(\u001b[0m\u001b[1;33m)\u001b[0m\u001b[1;33m\u001b[0m\u001b[1;33m\u001b[0m\u001b[0m\n\u001b[0;32m    579\u001b[0m     \u001b[1;32melse\u001b[0m\u001b[1;33m:\u001b[0m\u001b[1;33m\u001b[0m\u001b[1;33m\u001b[0m\u001b[0m\n\u001b[1;32m--> 580\u001b[1;33m       \u001b[0mresult\u001b[0m \u001b[1;33m=\u001b[0m \u001b[0mself\u001b[0m\u001b[1;33m.\u001b[0m\u001b[0m_call\u001b[0m\u001b[1;33m(\u001b[0m\u001b[1;33m*\u001b[0m\u001b[0margs\u001b[0m\u001b[1;33m,\u001b[0m \u001b[1;33m**\u001b[0m\u001b[0mkwds\u001b[0m\u001b[1;33m)\u001b[0m\u001b[1;33m\u001b[0m\u001b[1;33m\u001b[0m\u001b[0m\n\u001b[0m\u001b[0;32m    581\u001b[0m \u001b[1;33m\u001b[0m\u001b[0m\n\u001b[0;32m    582\u001b[0m     \u001b[1;32mif\u001b[0m \u001b[0mtracing_count\u001b[0m \u001b[1;33m==\u001b[0m \u001b[0mself\u001b[0m\u001b[1;33m.\u001b[0m\u001b[0m_get_tracing_count\u001b[0m\u001b[1;33m(\u001b[0m\u001b[1;33m)\u001b[0m\u001b[1;33m:\u001b[0m\u001b[1;33m\u001b[0m\u001b[1;33m\u001b[0m\u001b[0m\n",
      "\u001b[1;32m~\\anaconda3\\lib\\site-packages\\tensorflow\\python\\eager\\def_function.py\u001b[0m in \u001b[0;36m_call\u001b[1;34m(self, *args, **kwds)\u001b[0m\n\u001b[0;32m    616\u001b[0m       \u001b[1;31m# In this case we have not created variables on the first call. So we can\u001b[0m\u001b[1;33m\u001b[0m\u001b[1;33m\u001b[0m\u001b[1;33m\u001b[0m\u001b[0m\n\u001b[0;32m    617\u001b[0m       \u001b[1;31m# run the first trace but we should fail if variables are created.\u001b[0m\u001b[1;33m\u001b[0m\u001b[1;33m\u001b[0m\u001b[1;33m\u001b[0m\u001b[0m\n\u001b[1;32m--> 618\u001b[1;33m       \u001b[0mresults\u001b[0m \u001b[1;33m=\u001b[0m \u001b[0mself\u001b[0m\u001b[1;33m.\u001b[0m\u001b[0m_stateful_fn\u001b[0m\u001b[1;33m(\u001b[0m\u001b[1;33m*\u001b[0m\u001b[0margs\u001b[0m\u001b[1;33m,\u001b[0m \u001b[1;33m**\u001b[0m\u001b[0mkwds\u001b[0m\u001b[1;33m)\u001b[0m\u001b[1;33m\u001b[0m\u001b[1;33m\u001b[0m\u001b[0m\n\u001b[0m\u001b[0;32m    619\u001b[0m       \u001b[1;32mif\u001b[0m \u001b[0mself\u001b[0m\u001b[1;33m.\u001b[0m\u001b[0m_created_variables\u001b[0m\u001b[1;33m:\u001b[0m\u001b[1;33m\u001b[0m\u001b[1;33m\u001b[0m\u001b[0m\n\u001b[0;32m    620\u001b[0m         raise ValueError(\"Creating variables on a non-first call to a function\"\n",
      "\u001b[1;32m~\\anaconda3\\lib\\site-packages\\tensorflow\\python\\eager\\function.py\u001b[0m in \u001b[0;36m__call__\u001b[1;34m(self, *args, **kwargs)\u001b[0m\n\u001b[0;32m   2418\u001b[0m     \u001b[1;32mwith\u001b[0m \u001b[0mself\u001b[0m\u001b[1;33m.\u001b[0m\u001b[0m_lock\u001b[0m\u001b[1;33m:\u001b[0m\u001b[1;33m\u001b[0m\u001b[1;33m\u001b[0m\u001b[0m\n\u001b[0;32m   2419\u001b[0m       \u001b[0mgraph_function\u001b[0m\u001b[1;33m,\u001b[0m \u001b[0margs\u001b[0m\u001b[1;33m,\u001b[0m \u001b[0mkwargs\u001b[0m \u001b[1;33m=\u001b[0m \u001b[0mself\u001b[0m\u001b[1;33m.\u001b[0m\u001b[0m_maybe_define_function\u001b[0m\u001b[1;33m(\u001b[0m\u001b[0margs\u001b[0m\u001b[1;33m,\u001b[0m \u001b[0mkwargs\u001b[0m\u001b[1;33m)\u001b[0m\u001b[1;33m\u001b[0m\u001b[1;33m\u001b[0m\u001b[0m\n\u001b[1;32m-> 2420\u001b[1;33m     \u001b[1;32mreturn\u001b[0m \u001b[0mgraph_function\u001b[0m\u001b[1;33m.\u001b[0m\u001b[0m_filtered_call\u001b[0m\u001b[1;33m(\u001b[0m\u001b[0margs\u001b[0m\u001b[1;33m,\u001b[0m \u001b[0mkwargs\u001b[0m\u001b[1;33m)\u001b[0m  \u001b[1;31m# pylint: disable=protected-access\u001b[0m\u001b[1;33m\u001b[0m\u001b[1;33m\u001b[0m\u001b[0m\n\u001b[0m\u001b[0;32m   2421\u001b[0m \u001b[1;33m\u001b[0m\u001b[0m\n\u001b[0;32m   2422\u001b[0m   \u001b[1;33m@\u001b[0m\u001b[0mproperty\u001b[0m\u001b[1;33m\u001b[0m\u001b[1;33m\u001b[0m\u001b[0m\n",
      "\u001b[1;32m~\\anaconda3\\lib\\site-packages\\tensorflow\\python\\eager\\function.py\u001b[0m in \u001b[0;36m_filtered_call\u001b[1;34m(self, args, kwargs)\u001b[0m\n\u001b[0;32m   1659\u001b[0m       \u001b[0;31m`\u001b[0m\u001b[0margs\u001b[0m\u001b[0;31m`\u001b[0m \u001b[1;32mand\u001b[0m\u001b[0;31m \u001b[0m\u001b[0;31m`\u001b[0m\u001b[0mkwargs\u001b[0m\u001b[0;31m`\u001b[0m\u001b[1;33m.\u001b[0m\u001b[1;33m\u001b[0m\u001b[1;33m\u001b[0m\u001b[0m\n\u001b[0;32m   1660\u001b[0m     \"\"\"\n\u001b[1;32m-> 1661\u001b[1;33m     return self._call_flat(\n\u001b[0m\u001b[0;32m   1662\u001b[0m         (t for t in nest.flatten((args, kwargs), expand_composites=True)\n\u001b[0;32m   1663\u001b[0m          if isinstance(t, (ops.Tensor,\n",
      "\u001b[1;32m~\\anaconda3\\lib\\site-packages\\tensorflow\\python\\eager\\function.py\u001b[0m in \u001b[0;36m_call_flat\u001b[1;34m(self, args, captured_inputs, cancellation_manager)\u001b[0m\n\u001b[0;32m   1743\u001b[0m         and executing_eagerly):\n\u001b[0;32m   1744\u001b[0m       \u001b[1;31m# No tape is watching; skip to running the function.\u001b[0m\u001b[1;33m\u001b[0m\u001b[1;33m\u001b[0m\u001b[1;33m\u001b[0m\u001b[0m\n\u001b[1;32m-> 1745\u001b[1;33m       return self._build_call_outputs(self._inference_function.call(\n\u001b[0m\u001b[0;32m   1746\u001b[0m           ctx, args, cancellation_manager=cancellation_manager))\n\u001b[0;32m   1747\u001b[0m     forward_backward = self._select_forward_and_backward_functions(\n",
      "\u001b[1;32m~\\anaconda3\\lib\\site-packages\\tensorflow\\python\\eager\\function.py\u001b[0m in \u001b[0;36mcall\u001b[1;34m(self, ctx, args, cancellation_manager)\u001b[0m\n\u001b[0;32m    591\u001b[0m       \u001b[1;32mwith\u001b[0m \u001b[0m_InterpolateFunctionError\u001b[0m\u001b[1;33m(\u001b[0m\u001b[0mself\u001b[0m\u001b[1;33m)\u001b[0m\u001b[1;33m:\u001b[0m\u001b[1;33m\u001b[0m\u001b[1;33m\u001b[0m\u001b[0m\n\u001b[0;32m    592\u001b[0m         \u001b[1;32mif\u001b[0m \u001b[0mcancellation_manager\u001b[0m \u001b[1;32mis\u001b[0m \u001b[1;32mNone\u001b[0m\u001b[1;33m:\u001b[0m\u001b[1;33m\u001b[0m\u001b[1;33m\u001b[0m\u001b[0m\n\u001b[1;32m--> 593\u001b[1;33m           outputs = execute.execute(\n\u001b[0m\u001b[0;32m    594\u001b[0m               \u001b[0mstr\u001b[0m\u001b[1;33m(\u001b[0m\u001b[0mself\u001b[0m\u001b[1;33m.\u001b[0m\u001b[0msignature\u001b[0m\u001b[1;33m.\u001b[0m\u001b[0mname\u001b[0m\u001b[1;33m)\u001b[0m\u001b[1;33m,\u001b[0m\u001b[1;33m\u001b[0m\u001b[1;33m\u001b[0m\u001b[0m\n\u001b[0;32m    595\u001b[0m               \u001b[0mnum_outputs\u001b[0m\u001b[1;33m=\u001b[0m\u001b[0mself\u001b[0m\u001b[1;33m.\u001b[0m\u001b[0m_num_outputs\u001b[0m\u001b[1;33m,\u001b[0m\u001b[1;33m\u001b[0m\u001b[1;33m\u001b[0m\u001b[0m\n",
      "\u001b[1;32m~\\anaconda3\\lib\\site-packages\\tensorflow\\python\\eager\\execute.py\u001b[0m in \u001b[0;36mquick_execute\u001b[1;34m(op_name, num_outputs, inputs, attrs, ctx, name)\u001b[0m\n\u001b[0;32m     57\u001b[0m   \u001b[1;32mtry\u001b[0m\u001b[1;33m:\u001b[0m\u001b[1;33m\u001b[0m\u001b[1;33m\u001b[0m\u001b[0m\n\u001b[0;32m     58\u001b[0m     \u001b[0mctx\u001b[0m\u001b[1;33m.\u001b[0m\u001b[0mensure_initialized\u001b[0m\u001b[1;33m(\u001b[0m\u001b[1;33m)\u001b[0m\u001b[1;33m\u001b[0m\u001b[1;33m\u001b[0m\u001b[0m\n\u001b[1;32m---> 59\u001b[1;33m     tensors = pywrap_tfe.TFE_Py_Execute(ctx._handle, device_name, op_name,\n\u001b[0m\u001b[0;32m     60\u001b[0m                                         inputs, attrs, num_outputs)\n\u001b[0;32m     61\u001b[0m   \u001b[1;32mexcept\u001b[0m \u001b[0mcore\u001b[0m\u001b[1;33m.\u001b[0m\u001b[0m_NotOkStatusException\u001b[0m \u001b[1;32mas\u001b[0m \u001b[0me\u001b[0m\u001b[1;33m:\u001b[0m\u001b[1;33m\u001b[0m\u001b[1;33m\u001b[0m\u001b[0m\n",
      "\u001b[1;31mKeyboardInterrupt\u001b[0m: "
     ]
    }
   ],
   "source": [
    "rnn_history = model.fit(train_X_skf, train_Y_skf,\n",
    "                        batch_size=batch_size, \n",
    "                        epochs=epochs, \n",
    "                        callbacks=early_stopping,\n",
    "                       #)\n",
    "                       # validation_split=0.1)\n",
    "                        validation_data=(val_X_skf, val_Y_skf))"
   ]
  },
  {
   "cell_type": "code",
   "execution_count": 68,
   "metadata": {},
   "outputs": [
    {
     "data": {
      "text/plain": [
       "21"
      ]
     },
     "execution_count": 68,
     "metadata": {},
     "output_type": "execute_result"
    }
   ],
   "source": [
    "len(rnn_history.history['loss']) - 1"
   ]
  },
  {
   "cell_type": "code",
   "execution_count": 69,
   "metadata": {},
   "outputs": [],
   "source": [
    "preds = model.predict_classes(train_X, verbose=0)"
   ]
  },
  {
   "cell_type": "code",
   "execution_count": 70,
   "metadata": {},
   "outputs": [],
   "source": [
    "cm = confusion_matrix(train_Y, preds)"
   ]
  },
  {
   "cell_type": "code",
   "execution_count": 71,
   "metadata": {},
   "outputs": [
    {
     "data": {
      "text/plain": [
       "array([[3579,    0],\n",
       "       [   2,    0]], dtype=int64)"
      ]
     },
     "execution_count": 71,
     "metadata": {},
     "output_type": "execute_result"
    }
   ],
   "source": [
    "cm"
   ]
  },
  {
   "cell_type": "code",
   "execution_count": 174,
   "metadata": {
    "scrolled": true
   },
   "outputs": [
    {
     "data": {
      "text/plain": [
       "array([3579,    0,    2,    0], dtype=int64)"
      ]
     },
     "execution_count": 174,
     "metadata": {},
     "output_type": "execute_result"
    }
   ],
   "source": [
    "cm.flatten()"
   ]
  },
  {
   "cell_type": "code",
   "execution_count": 34,
   "metadata": {},
   "outputs": [],
   "source": [
    "#softmax\n",
    "def build_rnn_model(units):\n",
    "    # モデルの構築\n",
    "    rnn_model = Sequential()\n",
    "    rnn_model.add(SimpleRNN(units, input_shape=(None, 1), return_sequences=False, activation='relu'))\n",
    "    rnn_model.add(Dense(2, activation='softmax'))  #全結合層\n",
    "    rnn_model.compile(loss= focal_loss.SparseCategoricalFocalLoss(gamma=2.0), optimizer=optimizers.Adam(amsgrad=True), metrics=['accuracy'])\n",
    "    #rnn_model.summary()\n",
    "\n",
    "    return rnn_model"
   ]
  },
  {
   "cell_type": "code",
   "execution_count": 42,
   "metadata": {
    "scrolled": true
   },
   "outputs": [],
   "source": [
    "#input_shape = (len(train_Y), window_size, 1)\n",
    "units = 300\n",
    "\n",
    "model = build_rnn_model(units)\n",
    "\n",
    "epochs = 100000\n",
    "batch_size = len(train_Y_skf)#//10\n",
    "early_stopping = EarlyStopping(monitor='val_loss', patience=1, verbose=0)"
   ]
  },
  {
   "cell_type": "code",
   "execution_count": 43,
   "metadata": {},
   "outputs": [
    {
     "data": {
      "text/plain": [
       "array([[1., 0.],\n",
       "       [1., 0.],\n",
       "       [1., 0.],\n",
       "       ...,\n",
       "       [1., 0.],\n",
       "       [1., 0.],\n",
       "       [1., 0.]], dtype=float32)"
      ]
     },
     "execution_count": 43,
     "metadata": {},
     "output_type": "execute_result"
    }
   ],
   "source": [
    "Y_train_cateforicaled"
   ]
  },
  {
   "cell_type": "code",
   "execution_count": 44,
   "metadata": {},
   "outputs": [
    {
     "name": "stdout",
     "output_type": "stream",
     "text": [
      "Epoch 1/100000\n",
      "1/1 [==============================] - 2s 2s/step - loss: 0.1763 - accuracy: 0.0028 - val_loss: 0.1676 - val_accuracy: 0.9966\n",
      "Epoch 2/100000\n",
      "1/1 [==============================] - 3s 3s/step - loss: 0.1676 - accuracy: 0.9944 - val_loss: 0.1585 - val_accuracy: 0.9966\n",
      "Epoch 3/100000\n",
      "1/1 [==============================] - 2s 2s/step - loss: 0.1586 - accuracy: 0.9950 - val_loss: 0.1439 - val_accuracy: 0.9989\n",
      "Epoch 4/100000\n",
      "1/1 [==============================] - 2s 2s/step - loss: 0.1439 - accuracy: 0.9994 - val_loss: 0.1172 - val_accuracy: 0.9994\n",
      "Epoch 5/100000\n",
      "1/1 [==============================] - 2s 2s/step - loss: 0.1171 - accuracy: 0.9994 - val_loss: 0.0426 - val_accuracy: 0.9994\n",
      "Epoch 6/100000\n",
      "1/1 [==============================] - 2s 2s/step - loss: 0.0425 - accuracy: 0.9994 - val_loss: 0.0090 - val_accuracy: 0.9994\n",
      "Epoch 7/100000\n",
      "1/1 [==============================] - 2s 2s/step - loss: 0.0090 - accuracy: 0.9994 - val_loss: 0.0090 - val_accuracy: 0.9994\n"
     ]
    }
   ],
   "source": [
    "#Y_train_cateforicaled = to_categorical(train_Y_skf, num_classes=None)\n",
    "#Y_val_cateforicaled = to_categorical(val_Y_skf, num_classes=None)\n",
    "\n",
    "rnn_history = model.fit(train_X_skf, train_Y_skf,\n",
    "                        batch_size=batch_size, \n",
    "                        epochs=epochs, \n",
    "                        callbacks=early_stopping,\n",
    "                       #)\n",
    "                       # validation_split=0.1)\n",
    "                        validation_data=(val_X_skf, val_Y_skf))"
   ]
  },
  {
   "cell_type": "code",
   "execution_count": 45,
   "metadata": {},
   "outputs": [
    {
     "data": {
      "text/plain": [
       "6"
      ]
     },
     "execution_count": 45,
     "metadata": {},
     "output_type": "execute_result"
    }
   ],
   "source": [
    "len(rnn_history.history['loss']) - 1"
   ]
  },
  {
   "cell_type": "code",
   "execution_count": 46,
   "metadata": {
    "scrolled": true
   },
   "outputs": [
    {
     "name": "stdout",
     "output_type": "stream",
     "text": [
      "WARNING:tensorflow:From <ipython-input-46-a6541a80bba3>:1: Sequential.predict_classes (from tensorflow.python.keras.engine.sequential) is deprecated and will be removed after 2021-01-01.\n",
      "Instructions for updating:\n",
      "Please use instead:* `np.argmax(model.predict(x), axis=-1)`,   if your model does multi-class classification   (e.g. if it uses a `softmax` last-layer activation).* `(model.predict(x) > 0.5).astype(\"int32\")`,   if your model does binary classification   (e.g. if it uses a `sigmoid` last-layer activation).\n"
     ]
    }
   ],
   "source": [
    "preds = model.predict_classes(train_X, verbose=0)"
   ]
  },
  {
   "cell_type": "code",
   "execution_count": 47,
   "metadata": {},
   "outputs": [
    {
     "data": {
      "text/plain": [
       "array([0, 0, 0, ..., 0, 0, 0], dtype=int64)"
      ]
     },
     "execution_count": 47,
     "metadata": {},
     "output_type": "execute_result"
    }
   ],
   "source": [
    "preds"
   ]
  },
  {
   "cell_type": "code",
   "execution_count": 48,
   "metadata": {},
   "outputs": [],
   "source": [
    "cm = confusion_matrix(train_Y, preds)"
   ]
  },
  {
   "cell_type": "code",
   "execution_count": 49,
   "metadata": {},
   "outputs": [
    {
     "data": {
      "text/plain": [
       "array([[3579,    0],\n",
       "       [   2,    0]], dtype=int64)"
      ]
     },
     "execution_count": 49,
     "metadata": {},
     "output_type": "execute_result"
    }
   ],
   "source": [
    "cm"
   ]
  },
  {
   "cell_type": "code",
   "execution_count": 174,
   "metadata": {
    "scrolled": true
   },
   "outputs": [
    {
     "data": {
      "text/plain": [
       "array([3579,    0,    2,    0], dtype=int64)"
      ]
     },
     "execution_count": 174,
     "metadata": {},
     "output_type": "execute_result"
    }
   ],
   "source": [
    "cm.flatten()"
   ]
  },
  {
   "cell_type": "code",
   "execution_count": null,
   "metadata": {},
   "outputs": [],
   "source": []
  }
 ],
 "metadata": {
  "kernelspec": {
   "display_name": "Python 3",
   "language": "python",
   "name": "python3"
  },
  "language_info": {
   "codemirror_mode": {
    "name": "ipython",
    "version": 3
   },
   "file_extension": ".py",
   "mimetype": "text/x-python",
   "name": "python",
   "nbconvert_exporter": "python",
   "pygments_lexer": "ipython3",
   "version": "3.8.3"
  }
 },
 "nbformat": 4,
 "nbformat_minor": 4
}
