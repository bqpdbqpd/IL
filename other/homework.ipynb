{
 "cells": [
  {
   "cell_type": "code",
   "execution_count": 4,
   "metadata": {},
   "outputs": [],
   "source": [
    "resurch_ipadress = '255.255.255.255'\n",
    "parts = resurch_ipadress.split('.')"
   ]
  },
  {
   "cell_type": "code",
   "execution_count": 13,
   "metadata": {},
   "outputs": [
    {
     "name": "stdout",
     "output_type": "stream",
     "text": [
      "4278190080\n",
      "512\n",
      "16711680\n",
      "64\n",
      "65280\n",
      "8\n",
      "255\n",
      "1\n"
     ]
    }
   ],
   "source": [
    "for i in range(len(parts)):\n",
    "    print(int(parts[i]) << (8*(4-(1+i))))\n",
    "    print((8**(4-(1+i))))"
   ]
  },
  {
   "cell_type": "code",
   "execution_count": 14,
   "metadata": {},
   "outputs": [
    {
     "name": "stdout",
     "output_type": "stream",
     "text": [
      "4278190080\n",
      "4278190080\n",
      "4278190080\n",
      "4278190080\n"
     ]
    }
   ],
   "source": [
    "for i in range(len(parts)):\n",
    "    print(int(parts[i]) << 24)\n",
    "    #print((8**(4-(1+i))))"
   ]
  },
  {
   "cell_type": "code",
   "execution_count": 15,
   "metadata": {},
   "outputs": [],
   "source": [
    "ipstr = '1.2.3.4'\n",
    "parts = ipstr.split('.')"
   ]
  },
  {
   "cell_type": "code",
   "execution_count": 16,
   "metadata": {},
   "outputs": [
    {
     "data": {
      "text/plain": [
       "16909060"
      ]
     },
     "execution_count": 16,
     "metadata": {},
     "output_type": "execute_result"
    }
   ],
   "source": [
    "(int(parts[0]) << 24) + (int(parts[1]) << 16) + (int(parts[2]) << 8) + int(parts[3])"
   ]
  },
  {
   "cell_type": "code",
   "execution_count": 17,
   "metadata": {
    "scrolled": true
   },
   "outputs": [
    {
     "name": "stdout",
     "output_type": "stream",
     "text": [
      "16777216\n",
      "512\n",
      "131072\n",
      "64\n",
      "768\n",
      "8\n",
      "4\n",
      "1\n"
     ]
    }
   ],
   "source": [
    "for i in range(len(parts)):\n",
    "    print(int(parts[i]) << (8*(4-(1+i))))\n",
    "    print((8**(4-(1+i))))"
   ]
  },
  {
   "cell_type": "code",
   "execution_count": 19,
   "metadata": {},
   "outputs": [],
   "source": [
    "import ipaddress"
   ]
  },
  {
   "cell_type": "code",
   "execution_count": 21,
   "metadata": {},
   "outputs": [
    {
     "name": "stdout",
     "output_type": "stream",
     "text": [
      "255.255.255.255\n"
     ]
    }
   ],
   "source": [
    "ipv4_str = str(ipaddress.ip_address('255.255.255.255'))\n",
    "print(ipv4_str)"
   ]
  },
  {
   "cell_type": "code",
   "execution_count": 79,
   "metadata": {},
   "outputs": [],
   "source": [
    "#10to2\n",
    "def ipadress_10to2(test_str):\n",
    "    test_str_to2 = ''\n",
    "    test_str = int(test_str)\n",
    "    while test_str >= 2:\n",
    "        test_str_to2 = str(test_str % 2) + test_str_to2\n",
    "        test_str = test_str // 2\n",
    "\n",
    "    test_str_to2 = str(test_str % 2) + test_str_to2\n",
    "    #print( test_str_to2)\n",
    "    return test_str_to2"
   ]
  },
  {
   "cell_type": "code",
   "execution_count": 80,
   "metadata": {},
   "outputs": [],
   "source": [
    "test_str = '255'\n",
    "test_str = ipadress_10to2(test_str)"
   ]
  },
  {
   "cell_type": "code",
   "execution_count": 96,
   "metadata": {},
   "outputs": [],
   "source": [
    "#16to2\n",
    "def ipadress_2to16(test_str):\n",
    "    test_str_to16 = ''\n",
    "    test_int = int()\n",
    "    str_16 = '0123456789abcdef'\n",
    "    balancer = 1\n",
    "    \n",
    "    for i in range(len(test_str)):\n",
    "        #print((i + balancer))\n",
    "        if (i + balancer) % 4 == 0:\n",
    "            test_int += int(test_str[i]) * 2 ** (3)\n",
    "            test_str_to16 = str_16[test_int] + test_str_to16\n",
    "            test_int = int()\n",
    "            balancer = -3\n",
    "            \n",
    "        elif (i + balancer) % 3 == 0:\n",
    "            test_int += int(test_str[i]) * 2 ** (2)\n",
    "            \n",
    "        elif (i + balancer) % 2 == 0:\n",
    "            test_int += int(test_str[i]) * 2 ** (1)\n",
    "           \n",
    "        elif (i + balancer) % 1 == 0:\n",
    "            test_int += int(test_str[i]) * 2 ** (0)\n",
    "            #print('1', int(test_str[i]) * 2 ** (0))\n",
    "           \n",
    "    #print(test_str_to16)\n",
    "    return test_str_to16\n",
    "            "
   ]
  },
  {
   "cell_type": "code",
   "execution_count": 97,
   "metadata": {},
   "outputs": [
    {
     "data": {
      "text/plain": [
       "'ff'"
      ]
     },
     "execution_count": 97,
     "metadata": {},
     "output_type": "execute_result"
    }
   ],
   "source": [
    "ipadress_2to16(test_str)"
   ]
  },
  {
   "cell_type": "code",
   "execution_count": 98,
   "metadata": {},
   "outputs": [
    {
     "data": {
      "text/plain": [
       "'11111111'"
      ]
     },
     "execution_count": 98,
     "metadata": {},
     "output_type": "execute_result"
    }
   ],
   "source": [
    "test_str"
   ]
  },
  {
   "cell_type": "code",
   "execution_count": 107,
   "metadata": {},
   "outputs": [],
   "source": [
    "test_ip = '255.255.255.147'.split('.')\n",
    "ip_16 = '0x'\n",
    "\n",
    "for ti in test_ip:\n",
    "    ip_16 += ipadress_2to16(ipadress_10to2(ti))"
   ]
  },
  {
   "cell_type": "code",
   "execution_count": 108,
   "metadata": {},
   "outputs": [
    {
     "data": {
      "text/plain": [
       "'0xffffffc9'"
      ]
     },
     "execution_count": 108,
     "metadata": {},
     "output_type": "execute_result"
    }
   ],
   "source": [
    "ip_16"
   ]
  },
  {
   "cell_type": "code",
   "execution_count": null,
   "metadata": {},
   "outputs": [],
   "source": []
  },
  {
   "cell_type": "code",
   "execution_count": null,
   "metadata": {},
   "outputs": [],
   "source": []
  }
 ],
 "metadata": {
  "kernelspec": {
   "display_name": "Python 3",
   "language": "python",
   "name": "python3"
  },
  "language_info": {
   "codemirror_mode": {
    "name": "ipython",
    "version": 3
   },
   "file_extension": ".py",
   "mimetype": "text/x-python",
   "name": "python",
   "nbconvert_exporter": "python",
   "pygments_lexer": "ipython3",
   "version": "3.8.3"
  }
 },
 "nbformat": 4,
 "nbformat_minor": 2
}
